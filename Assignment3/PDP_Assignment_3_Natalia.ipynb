{
 "cells": [
  {
   "cell_type": "markdown",
   "id": "d69be87a-19b2-4b7a-b3f2-0edf2a8bb8be",
   "metadata": {},
   "source": [
    "**Assignment 3 PDP**"
   ]
  },
  {
   "cell_type": "code",
   "execution_count": 29,
   "id": "8902eb29-95ab-4ea3-9d74-9e463737d632",
   "metadata": {},
   "outputs": [],
   "source": [
    "import findspark\n",
    "from pyspark.sql import SparkSession\n",
    "from pyspark.sql.types import *\n",
    "import numpy as np\n",
    "import pandas as pd"
   ]
  },
  {
   "cell_type": "markdown",
   "id": "1fd579c7-8baa-4880-ba67-2edfacdac1b4",
   "metadata": {},
   "source": [
    "Initiate Spark"
   ]
  },
  {
   "cell_type": "code",
   "execution_count": 30,
   "id": "16a5c988-9793-4f38-948c-4e4cb6de5484",
   "metadata": {},
   "outputs": [],
   "source": [
    "findspark.init()"
   ]
  },
  {
   "cell_type": "markdown",
   "id": "f8392cda-32c7-4e12-8d8c-08250580402e",
   "metadata": {},
   "source": [
    "Create a Spark session"
   ]
  },
  {
   "cell_type": "code",
   "execution_count": 31,
   "id": "3c9c9fce-1201-41a7-b656-7017888ea69f",
   "metadata": {},
   "outputs": [],
   "source": [
    "spark = SparkSession.builder.master(\"local\").appName(\"Assignment3\").config(\"spark.executor.memory\", \"1gb\").getOrCreate()\n",
    "sc = spark.sparkContext"
   ]
  },
  {
   "cell_type": "markdown",
   "id": "d10ebfe6-0014-4433-b283-f53ced556628",
   "metadata": {},
   "source": [
    "Load the data"
   ]
  },
  {
   "cell_type": "code",
   "execution_count": 32,
   "id": "14f5baa5-e690-47ee-92ee-4784cd93c43e",
   "metadata": {},
   "outputs": [],
   "source": [
    "df = spark.read.format(\"CSV\").option(\"header\", \"true\").load(\"titanic.csv\")"
   ]
  },
  {
   "cell_type": "markdown",
   "id": "7789315c-3048-416a-9f35-cb72dbc7cfa7",
   "metadata": {},
   "source": [
    "Format the data"
   ]
  },
  {
   "cell_type": "code",
   "execution_count": 33,
   "id": "0e295e0e-32d2-40ae-a482-37160cf45627",
   "metadata": {},
   "outputs": [],
   "source": [
    "df = df.withColumn(\"Survived\", df[\"Survived\"].cast(IntegerType())) \\\n",
    "    .withColumn(\"Pclass\", df[\"Pclass\"].cast(IntegerType())) \\\n",
    "    .withColumn(\"Name\", df[\"Name\"].cast(StringType())) \\\n",
    "    .withColumn(\"Sex\", df[\"Sex\"].cast(StringType())) \\\n",
    "    .withColumn(\"Age\", df[\"Age\"].cast(IntegerType())) \\\n",
    "    .withColumn(\"Siblings/Spouses Aboard\", df[\"Siblings/Spouses Aboard\"].cast(IntegerType())) \\\n",
    "    .withColumn(\"Parents/Children Aboard\", df[\"Parents/Children Aboard\"].cast(IntegerType())) \\\n",
    "    .withColumn(\"Fare\", df[\"Fare\"].cast(FloatType()))"
   ]
  },
  {
   "cell_type": "markdown",
   "id": "156ed1e3-0957-45fa-ab6a-57c2775518d4",
   "metadata": {},
   "source": [
    "a.\n",
    "In order to calculate the probability that the person survives the passengers have been grouped by gender and class"
   ]
  },
  {
   "cell_type": "code",
   "execution_count": 34,
   "id": "c05ecabb-8636-4bf3-9048-a28ca6ebf773",
   "metadata": {},
   "outputs": [
    {
     "data": {
      "text/html": [
       "<div>\n",
       "<style scoped>\n",
       "    .dataframe tbody tr th:only-of-type {\n",
       "        vertical-align: middle;\n",
       "    }\n",
       "\n",
       "    .dataframe tbody tr th {\n",
       "        vertical-align: top;\n",
       "    }\n",
       "\n",
       "    .dataframe thead th {\n",
       "        text-align: right;\n",
       "    }\n",
       "</style>\n",
       "<table border=\"1\" class=\"dataframe\">\n",
       "  <thead>\n",
       "    <tr style=\"text-align: right;\">\n",
       "      <th></th>\n",
       "      <th></th>\n",
       "      <th>Survived</th>\n",
       "    </tr>\n",
       "    <tr>\n",
       "      <th>Sex</th>\n",
       "      <th>Pclass</th>\n",
       "      <th></th>\n",
       "    </tr>\n",
       "  </thead>\n",
       "  <tbody>\n",
       "    <tr>\n",
       "      <th rowspan=\"3\" valign=\"top\">female</th>\n",
       "      <th>1</th>\n",
       "      <td>0.968085</td>\n",
       "    </tr>\n",
       "    <tr>\n",
       "      <th>2</th>\n",
       "      <td>0.921053</td>\n",
       "    </tr>\n",
       "    <tr>\n",
       "      <th>3</th>\n",
       "      <td>0.500000</td>\n",
       "    </tr>\n",
       "    <tr>\n",
       "      <th rowspan=\"3\" valign=\"top\">male</th>\n",
       "      <th>1</th>\n",
       "      <td>0.368852</td>\n",
       "    </tr>\n",
       "    <tr>\n",
       "      <th>2</th>\n",
       "      <td>0.157407</td>\n",
       "    </tr>\n",
       "    <tr>\n",
       "      <th>3</th>\n",
       "      <td>0.137026</td>\n",
       "    </tr>\n",
       "  </tbody>\n",
       "</table>\n",
       "</div>"
      ],
      "text/plain": [
       "               Survived\n",
       "Sex    Pclass          \n",
       "female 1       0.968085\n",
       "       2       0.921053\n",
       "       3       0.500000\n",
       "male   1       0.368852\n",
       "       2       0.157407\n",
       "       3       0.137026"
      ]
     },
     "execution_count": 34,
     "metadata": {},
     "output_type": "execute_result"
    }
   ],
   "source": [
    "passenger_survival = df.select(\"Survived\", \"Sex\", \"Pclass\").toPandas()\n",
    "passenger_survival = passenger_survival.groupby([\"Sex\", \"Pclass\"]).mean([\"Survived\"])\n",
    "passenger_survival"
   ]
  },
  {
   "cell_type": "markdown",
   "id": "1bec5255-6dca-43d5-abcf-e22b1a984e22",
   "metadata": {},
   "source": [
    "b. All the children that are in third class and 10 yrs or younger are selected. Then the children that have survived are being counted. Finally, the amount of children that had survived is divided by the total number of children that satisfy the condition of being in third class and 10yrs or younger. \n",
    "\n",
    "\n"
   ]
  },
  {
   "cell_type": "code",
   "execution_count": 35,
   "id": "88a5cdfa-c66a-4433-9a93-7433d6c29b72",
   "metadata": {},
   "outputs": [
    {
     "name": "stdout",
     "output_type": "stream",
     "text": [
      "Chance of survival: 41.509433962264154\n"
     ]
    }
   ],
   "source": [
    "survival_probability = df.select(\"Age\", \"Pclass\", \"Survived\").toPandas()\n",
    "survival_probability = survival_probability[(survival_probability['Age'] <= 10) & (survival_probability['Pclass'] == 3)][['Age', 'Survived', 'Pclass']]\n",
    "survived = survival_probability[survival_probability['Survived'] == 1].count()[0]\n",
    "chance = (survived / survival_probability.count()[0] * 100).item()\n",
    "print(\"Chance of survival: \" + str(chance))"
   ]
  },
  {
   "cell_type": "markdown",
   "id": "5f867cfd-6a7c-493d-9a5d-eaf0bbd5b0c9",
   "metadata": {},
   "source": [
    "c. The mean is being used to calculate the average ticket price per passenger class. "
   ]
  },
  {
   "cell_type": "code",
   "execution_count": 36,
   "id": "7d25cc6d-ffed-470f-aa6d-f09e7441bcd1",
   "metadata": {},
   "outputs": [
    {
     "data": {
      "text/html": [
       "<div>\n",
       "<style scoped>\n",
       "    .dataframe tbody tr th:only-of-type {\n",
       "        vertical-align: middle;\n",
       "    }\n",
       "\n",
       "    .dataframe tbody tr th {\n",
       "        vertical-align: top;\n",
       "    }\n",
       "\n",
       "    .dataframe thead th {\n",
       "        text-align: right;\n",
       "    }\n",
       "</style>\n",
       "<table border=\"1\" class=\"dataframe\">\n",
       "  <thead>\n",
       "    <tr style=\"text-align: right;\">\n",
       "      <th></th>\n",
       "      <th>Fare</th>\n",
       "    </tr>\n",
       "    <tr>\n",
       "      <th>Pclass</th>\n",
       "      <th></th>\n",
       "    </tr>\n",
       "  </thead>\n",
       "  <tbody>\n",
       "    <tr>\n",
       "      <th>1</th>\n",
       "      <td>84.154686</td>\n",
       "    </tr>\n",
       "    <tr>\n",
       "      <th>2</th>\n",
       "      <td>20.662184</td>\n",
       "    </tr>\n",
       "    <tr>\n",
       "      <th>3</th>\n",
       "      <td>13.707707</td>\n",
       "    </tr>\n",
       "  </tbody>\n",
       "</table>\n",
       "</div>"
      ],
      "text/plain": [
       "             Fare\n",
       "Pclass           \n",
       "1       84.154686\n",
       "2       20.662184\n",
       "3       13.707707"
      ]
     },
     "execution_count": 36,
     "metadata": {},
     "output_type": "execute_result"
    }
   ],
   "source": [
    "avg_ticket_price = df.select(\"Pclass\", \"Fare\").toPandas()\n",
    "avg_ticket_price = avg_ticket_price.groupby([\"Pclass\"]).mean([\"Fare\"])\n",
    "avg_ticket_price"
   ]
  }
 ],
 "metadata": {
  "kernelspec": {
   "display_name": "Python 3",
   "language": "python",
   "name": "python3"
  },
  "language_info": {
   "codemirror_mode": {
    "name": "ipython",
    "version": 3
   },
   "file_extension": ".py",
   "mimetype": "text/x-python",
   "name": "python",
   "nbconvert_exporter": "python",
   "pygments_lexer": "ipython3",
   "version": "3.8.10"
  }
 },
 "nbformat": 4,
 "nbformat_minor": 5
}
